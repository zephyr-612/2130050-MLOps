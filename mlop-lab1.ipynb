{
 "cells": [
  {
   "cell_type": "markdown",
   "id": "65d1dbaf",
   "metadata": {
    "papermill": {
     "duration": 0.005054,
     "end_time": "2024-07-06T02:10:45.518403",
     "exception": false,
     "start_time": "2024-07-06T02:10:45.513349",
     "status": "completed"
    },
    "tags": []
   },
   "source": [
    "## Module vs Package vs Library\n",
    "\n",
    "### Module\n",
    "\n",
    "Collections of functions and global variables\n",
    "\n",
    "- Example: random, math\n",
    "\n",
    "### package\n",
    "\n",
    "Package is a collection of modules\n",
    "\n",
    "- Example: Numpy, Pandas, Matplotlib.pyplot\n",
    "\n",
    "### library\n",
    "\n",
    "- Example: Matpltlib\n"
   ]
  },
  {
   "cell_type": "code",
   "execution_count": 24,
   "id": "1821709f",
   "metadata": {
    "execution": {
     "iopub.execute_input": "2024-07-06T02:10:45.529588Z",
     "iopub.status.busy": "2024-07-06T02:10:45.529167Z",
     "iopub.status.idle": "2024-07-06T02:10:47.641059Z",
     "shell.execute_reply": "2024-07-06T02:10:47.639981Z"
    },
    "papermill": {
     "duration": 2.120534,
     "end_time": "2024-07-06T02:10:47.643677",
     "exception": false,
     "start_time": "2024-07-06T02:10:45.523143",
     "status": "completed"
    },
    "tags": []
   },
   "outputs": [],
   "source": [
    "import pandas as pd\n",
    "import numpy as np\n",
    "import matplotlib.pyplot as plt\n",
    "from sklearn.linear_model import LinearRegression\n",
    "from sklearn.model_selection import train_test_split"
   ]
  },
  {
   "cell_type": "markdown",
   "id": "471c72d2",
   "metadata": {
    "papermill": {
     "duration": 0.004363,
     "end_time": "2024-07-06T02:10:47.652891",
     "exception": false,
     "start_time": "2024-07-06T02:10:47.648528",
     "status": "completed"
    },
    "tags": []
   },
   "source": [
    "## Dataset\n",
    "\n",
    "- Method1: from the local/ same folder where database is stored as a .csv file\n",
    "- Method2: from python packages and the libraries. example: sklearn, keras, tensorflow\n",
    "- Method3: from Kaggle, GitHub\n"
   ]
  },
  {
   "cell_type": "code",
   "execution_count": 25,
   "id": "952557bf",
   "metadata": {
    "execution": {
     "iopub.execute_input": "2024-07-06T02:10:47.664023Z",
     "iopub.status.busy": "2024-07-06T02:10:47.663088Z",
     "iopub.status.idle": "2024-07-06T02:10:47.766882Z",
     "shell.execute_reply": "2024-07-06T02:10:47.765997Z"
    },
    "papermill": {
     "duration": 0.11184,
     "end_time": "2024-07-06T02:10:47.769209",
     "exception": false,
     "start_time": "2024-07-06T02:10:47.657369",
     "status": "completed"
    },
    "tags": []
   },
   "outputs": [],
   "source": [
    "from sklearn.datasets import load_diabetes\n",
    "from sklearn.metrics import mean_squared_error"
   ]
  },
  {
   "cell_type": "code",
   "execution_count": 26,
   "id": "aa87aad4",
   "metadata": {
    "execution": {
     "iopub.execute_input": "2024-07-06T02:10:47.780389Z",
     "iopub.status.busy": "2024-07-06T02:10:47.779533Z",
     "iopub.status.idle": "2024-07-06T02:10:47.798738Z",
     "shell.execute_reply": "2024-07-06T02:10:47.797509Z"
    },
    "papermill": {
     "duration": 0.027176,
     "end_time": "2024-07-06T02:10:47.801118",
     "exception": false,
     "start_time": "2024-07-06T02:10:47.773942",
     "status": "completed"
    },
    "tags": []
   },
   "outputs": [],
   "source": [
    "diabetes = load_diabetes()\n",
    "X, y = load_diabetes(return_X_y=True)"
   ]
  },
  {
   "cell_type": "code",
   "execution_count": 27,
   "id": "a27e289c",
   "metadata": {
    "execution": {
     "iopub.execute_input": "2024-07-06T02:10:47.811939Z",
     "iopub.status.busy": "2024-07-06T02:10:47.811560Z",
     "iopub.status.idle": "2024-07-06T02:10:47.818816Z",
     "shell.execute_reply": "2024-07-06T02:10:47.817849Z"
    },
    "papermill": {
     "duration": 0.015,
     "end_time": "2024-07-06T02:10:47.820847",
     "exception": false,
     "start_time": "2024-07-06T02:10:47.805847",
     "status": "completed"
    },
    "tags": []
   },
   "outputs": [
    {
     "data": {
      "text/plain": [
       "['age', 'sex', 'bmi', 'bp', 's1', 's2', 's3', 's4', 's5', 's6']"
      ]
     },
     "execution_count": 27,
     "metadata": {},
     "output_type": "execute_result"
    }
   ],
   "source": [
    "diabetes.feature_names"
   ]
  },
  {
   "cell_type": "code",
   "execution_count": 28,
   "id": "5259f31e",
   "metadata": {
    "execution": {
     "iopub.execute_input": "2024-07-06T02:10:47.831999Z",
     "iopub.status.busy": "2024-07-06T02:10:47.831651Z",
     "iopub.status.idle": "2024-07-06T02:10:47.838863Z",
     "shell.execute_reply": "2024-07-06T02:10:47.837885Z"
    },
    "papermill": {
     "duration": 0.015111,
     "end_time": "2024-07-06T02:10:47.840876",
     "exception": false,
     "start_time": "2024-07-06T02:10:47.825765",
     "status": "completed"
    },
    "tags": []
   },
   "outputs": [],
   "source": [
    "df = pd.DataFrame(data=diabetes.data, columns=diabetes.feature_names)"
   ]
  },
  {
   "cell_type": "code",
   "execution_count": 29,
   "id": "7b13e62b",
   "metadata": {
    "execution": {
     "iopub.execute_input": "2024-07-06T02:10:47.852418Z",
     "iopub.status.busy": "2024-07-06T02:10:47.851595Z",
     "iopub.status.idle": "2024-07-06T02:10:47.876098Z",
     "shell.execute_reply": "2024-07-06T02:10:47.875065Z"
    },
    "papermill": {
     "duration": 0.032576,
     "end_time": "2024-07-06T02:10:47.878348",
     "exception": false,
     "start_time": "2024-07-06T02:10:47.845772",
     "status": "completed"
    },
    "tags": []
   },
   "outputs": [
    {
     "data": {
      "text/html": [
       "<div>\n",
       "<style scoped>\n",
       "    .dataframe tbody tr th:only-of-type {\n",
       "        vertical-align: middle;\n",
       "    }\n",
       "\n",
       "    .dataframe tbody tr th {\n",
       "        vertical-align: top;\n",
       "    }\n",
       "\n",
       "    .dataframe thead th {\n",
       "        text-align: right;\n",
       "    }\n",
       "</style>\n",
       "<table border=\"1\" class=\"dataframe\">\n",
       "  <thead>\n",
       "    <tr style=\"text-align: right;\">\n",
       "      <th></th>\n",
       "      <th>age</th>\n",
       "      <th>sex</th>\n",
       "      <th>bmi</th>\n",
       "      <th>bp</th>\n",
       "      <th>s1</th>\n",
       "      <th>s2</th>\n",
       "      <th>s3</th>\n",
       "      <th>s4</th>\n",
       "      <th>s5</th>\n",
       "      <th>s6</th>\n",
       "    </tr>\n",
       "  </thead>\n",
       "  <tbody>\n",
       "    <tr>\n",
       "      <th>0</th>\n",
       "      <td>0.038076</td>\n",
       "      <td>0.050680</td>\n",
       "      <td>0.061696</td>\n",
       "      <td>0.021872</td>\n",
       "      <td>-0.044223</td>\n",
       "      <td>-0.034821</td>\n",
       "      <td>-0.043401</td>\n",
       "      <td>-0.002592</td>\n",
       "      <td>0.019907</td>\n",
       "      <td>-0.017646</td>\n",
       "    </tr>\n",
       "    <tr>\n",
       "      <th>1</th>\n",
       "      <td>-0.001882</td>\n",
       "      <td>-0.044642</td>\n",
       "      <td>-0.051474</td>\n",
       "      <td>-0.026328</td>\n",
       "      <td>-0.008449</td>\n",
       "      <td>-0.019163</td>\n",
       "      <td>0.074412</td>\n",
       "      <td>-0.039493</td>\n",
       "      <td>-0.068332</td>\n",
       "      <td>-0.092204</td>\n",
       "    </tr>\n",
       "    <tr>\n",
       "      <th>2</th>\n",
       "      <td>0.085299</td>\n",
       "      <td>0.050680</td>\n",
       "      <td>0.044451</td>\n",
       "      <td>-0.005670</td>\n",
       "      <td>-0.045599</td>\n",
       "      <td>-0.034194</td>\n",
       "      <td>-0.032356</td>\n",
       "      <td>-0.002592</td>\n",
       "      <td>0.002861</td>\n",
       "      <td>-0.025930</td>\n",
       "    </tr>\n",
       "    <tr>\n",
       "      <th>3</th>\n",
       "      <td>-0.089063</td>\n",
       "      <td>-0.044642</td>\n",
       "      <td>-0.011595</td>\n",
       "      <td>-0.036656</td>\n",
       "      <td>0.012191</td>\n",
       "      <td>0.024991</td>\n",
       "      <td>-0.036038</td>\n",
       "      <td>0.034309</td>\n",
       "      <td>0.022688</td>\n",
       "      <td>-0.009362</td>\n",
       "    </tr>\n",
       "    <tr>\n",
       "      <th>4</th>\n",
       "      <td>0.005383</td>\n",
       "      <td>-0.044642</td>\n",
       "      <td>-0.036385</td>\n",
       "      <td>0.021872</td>\n",
       "      <td>0.003935</td>\n",
       "      <td>0.015596</td>\n",
       "      <td>0.008142</td>\n",
       "      <td>-0.002592</td>\n",
       "      <td>-0.031988</td>\n",
       "      <td>-0.046641</td>\n",
       "    </tr>\n",
       "  </tbody>\n",
       "</table>\n",
       "</div>"
      ],
      "text/plain": [
       "        age       sex       bmi        bp        s1        s2        s3  \\\n",
       "0  0.038076  0.050680  0.061696  0.021872 -0.044223 -0.034821 -0.043401   \n",
       "1 -0.001882 -0.044642 -0.051474 -0.026328 -0.008449 -0.019163  0.074412   \n",
       "2  0.085299  0.050680  0.044451 -0.005670 -0.045599 -0.034194 -0.032356   \n",
       "3 -0.089063 -0.044642 -0.011595 -0.036656  0.012191  0.024991 -0.036038   \n",
       "4  0.005383 -0.044642 -0.036385  0.021872  0.003935  0.015596  0.008142   \n",
       "\n",
       "         s4        s5        s6  \n",
       "0 -0.002592  0.019907 -0.017646  \n",
       "1 -0.039493 -0.068332 -0.092204  \n",
       "2 -0.002592  0.002861 -0.025930  \n",
       "3  0.034309  0.022688 -0.009362  \n",
       "4 -0.002592 -0.031988 -0.046641  "
      ]
     },
     "execution_count": 29,
     "metadata": {},
     "output_type": "execute_result"
    }
   ],
   "source": [
    "df.head()"
   ]
  },
  {
   "cell_type": "code",
   "execution_count": 30,
   "id": "f0281297",
   "metadata": {
    "execution": {
     "iopub.execute_input": "2024-07-06T02:10:47.890613Z",
     "iopub.status.busy": "2024-07-06T02:10:47.890262Z",
     "iopub.status.idle": "2024-07-06T02:10:47.896526Z",
     "shell.execute_reply": "2024-07-06T02:10:47.895575Z"
    },
    "papermill": {
     "duration": 0.014638,
     "end_time": "2024-07-06T02:10:47.898536",
     "exception": false,
     "start_time": "2024-07-06T02:10:47.883898",
     "status": "completed"
    },
    "tags": []
   },
   "outputs": [
    {
     "data": {
      "text/plain": [
       "(442, 10)"
      ]
     },
     "execution_count": 30,
     "metadata": {},
     "output_type": "execute_result"
    }
   ],
   "source": [
    "X.shape"
   ]
  },
  {
   "cell_type": "code",
   "execution_count": 31,
   "id": "0f27235f",
   "metadata": {
    "execution": {
     "iopub.execute_input": "2024-07-06T02:10:47.911244Z",
     "iopub.status.busy": "2024-07-06T02:10:47.910395Z",
     "iopub.status.idle": "2024-07-06T02:10:47.915190Z",
     "shell.execute_reply": "2024-07-06T02:10:47.914248Z"
    },
    "papermill": {
     "duration": 0.013279,
     "end_time": "2024-07-06T02:10:47.917274",
     "exception": false,
     "start_time": "2024-07-06T02:10:47.903995",
     "status": "completed"
    },
    "tags": []
   },
   "outputs": [],
   "source": [
    "X_in = np.array(X[:, 8]).reshape(-1, 1)"
   ]
  },
  {
   "cell_type": "code",
   "execution_count": 32,
   "id": "fb29dade",
   "metadata": {
    "execution": {
     "iopub.execute_input": "2024-07-06T02:10:47.929831Z",
     "iopub.status.busy": "2024-07-06T02:10:47.929212Z",
     "iopub.status.idle": "2024-07-06T02:10:47.935969Z",
     "shell.execute_reply": "2024-07-06T02:10:47.934852Z"
    },
    "papermill": {
     "duration": 0.015354,
     "end_time": "2024-07-06T02:10:47.938033",
     "exception": false,
     "start_time": "2024-07-06T02:10:47.922679",
     "status": "completed"
    },
    "tags": []
   },
   "outputs": [],
   "source": [
    "X_train, X_test, y_train, y_test = train_test_split(\n",
    "    X_in, y, test_size=0.3, random_state=10\n",
    ")"
   ]
  },
  {
   "cell_type": "code",
   "execution_count": 33,
   "id": "a9deee46",
   "metadata": {
    "execution": {
     "iopub.execute_input": "2024-07-06T02:10:47.950781Z",
     "iopub.status.busy": "2024-07-06T02:10:47.950121Z",
     "iopub.status.idle": "2024-07-06T02:10:47.954590Z",
     "shell.execute_reply": "2024-07-06T02:10:47.953648Z"
    },
    "papermill": {
     "duration": 0.013185,
     "end_time": "2024-07-06T02:10:47.956706",
     "exception": false,
     "start_time": "2024-07-06T02:10:47.943521",
     "status": "completed"
    },
    "tags": []
   },
   "outputs": [],
   "source": [
    "lpm = LinearRegression()  # step1"
   ]
  },
  {
   "cell_type": "code",
   "execution_count": 34,
   "id": "d831aee1",
   "metadata": {
    "execution": {
     "iopub.execute_input": "2024-07-06T02:10:47.969762Z",
     "iopub.status.busy": "2024-07-06T02:10:47.969114Z",
     "iopub.status.idle": "2024-07-06T02:10:47.990809Z",
     "shell.execute_reply": "2024-07-06T02:10:47.989666Z"
    },
    "papermill": {
     "duration": 0.030621,
     "end_time": "2024-07-06T02:10:47.992917",
     "exception": false,
     "start_time": "2024-07-06T02:10:47.962296",
     "status": "completed"
    },
    "tags": []
   },
   "outputs": [
    {
     "data": {
      "text/html": [
       "<style>#sk-container-id-2 {\n",
       "  /* Definition of color scheme common for light and dark mode */\n",
       "  --sklearn-color-text: black;\n",
       "  --sklearn-color-line: gray;\n",
       "  /* Definition of color scheme for unfitted estimators */\n",
       "  --sklearn-color-unfitted-level-0: #fff5e6;\n",
       "  --sklearn-color-unfitted-level-1: #f6e4d2;\n",
       "  --sklearn-color-unfitted-level-2: #ffe0b3;\n",
       "  --sklearn-color-unfitted-level-3: chocolate;\n",
       "  /* Definition of color scheme for fitted estimators */\n",
       "  --sklearn-color-fitted-level-0: #f0f8ff;\n",
       "  --sklearn-color-fitted-level-1: #d4ebff;\n",
       "  --sklearn-color-fitted-level-2: #b3dbfd;\n",
       "  --sklearn-color-fitted-level-3: cornflowerblue;\n",
       "\n",
       "  /* Specific color for light theme */\n",
       "  --sklearn-color-text-on-default-background: var(--sg-text-color, var(--theme-code-foreground, var(--jp-content-font-color1, black)));\n",
       "  --sklearn-color-background: var(--sg-background-color, var(--theme-background, var(--jp-layout-color0, white)));\n",
       "  --sklearn-color-border-box: var(--sg-text-color, var(--theme-code-foreground, var(--jp-content-font-color1, black)));\n",
       "  --sklearn-color-icon: #696969;\n",
       "\n",
       "  @media (prefers-color-scheme: dark) {\n",
       "    /* Redefinition of color scheme for dark theme */\n",
       "    --sklearn-color-text-on-default-background: var(--sg-text-color, var(--theme-code-foreground, var(--jp-content-font-color1, white)));\n",
       "    --sklearn-color-background: var(--sg-background-color, var(--theme-background, var(--jp-layout-color0, #111)));\n",
       "    --sklearn-color-border-box: var(--sg-text-color, var(--theme-code-foreground, var(--jp-content-font-color1, white)));\n",
       "    --sklearn-color-icon: #878787;\n",
       "  }\n",
       "}\n",
       "\n",
       "#sk-container-id-2 {\n",
       "  color: var(--sklearn-color-text);\n",
       "}\n",
       "\n",
       "#sk-container-id-2 pre {\n",
       "  padding: 0;\n",
       "}\n",
       "\n",
       "#sk-container-id-2 input.sk-hidden--visually {\n",
       "  border: 0;\n",
       "  clip: rect(1px 1px 1px 1px);\n",
       "  clip: rect(1px, 1px, 1px, 1px);\n",
       "  height: 1px;\n",
       "  margin: -1px;\n",
       "  overflow: hidden;\n",
       "  padding: 0;\n",
       "  position: absolute;\n",
       "  width: 1px;\n",
       "}\n",
       "\n",
       "#sk-container-id-2 div.sk-dashed-wrapped {\n",
       "  border: 1px dashed var(--sklearn-color-line);\n",
       "  margin: 0 0.4em 0.5em 0.4em;\n",
       "  box-sizing: border-box;\n",
       "  padding-bottom: 0.4em;\n",
       "  background-color: var(--sklearn-color-background);\n",
       "}\n",
       "\n",
       "#sk-container-id-2 div.sk-container {\n",
       "  /* jupyter's `normalize.less` sets `[hidden] { display: none; }`\n",
       "     but bootstrap.min.css set `[hidden] { display: none !important; }`\n",
       "     so we also need the `!important` here to be able to override the\n",
       "     default hidden behavior on the sphinx rendered scikit-learn.org.\n",
       "     See: https://github.com/scikit-learn/scikit-learn/issues/21755 */\n",
       "  display: inline-block !important;\n",
       "  position: relative;\n",
       "}\n",
       "\n",
       "#sk-container-id-2 div.sk-text-repr-fallback {\n",
       "  display: none;\n",
       "}\n",
       "\n",
       "div.sk-parallel-item,\n",
       "div.sk-serial,\n",
       "div.sk-item {\n",
       "  /* draw centered vertical line to link estimators */\n",
       "  background-image: linear-gradient(var(--sklearn-color-text-on-default-background), var(--sklearn-color-text-on-default-background));\n",
       "  background-size: 2px 100%;\n",
       "  background-repeat: no-repeat;\n",
       "  background-position: center center;\n",
       "}\n",
       "\n",
       "/* Parallel-specific style estimator block */\n",
       "\n",
       "#sk-container-id-2 div.sk-parallel-item::after {\n",
       "  content: \"\";\n",
       "  width: 100%;\n",
       "  border-bottom: 2px solid var(--sklearn-color-text-on-default-background);\n",
       "  flex-grow: 1;\n",
       "}\n",
       "\n",
       "#sk-container-id-2 div.sk-parallel {\n",
       "  display: flex;\n",
       "  align-items: stretch;\n",
       "  justify-content: center;\n",
       "  background-color: var(--sklearn-color-background);\n",
       "  position: relative;\n",
       "}\n",
       "\n",
       "#sk-container-id-2 div.sk-parallel-item {\n",
       "  display: flex;\n",
       "  flex-direction: column;\n",
       "}\n",
       "\n",
       "#sk-container-id-2 div.sk-parallel-item:first-child::after {\n",
       "  align-self: flex-end;\n",
       "  width: 50%;\n",
       "}\n",
       "\n",
       "#sk-container-id-2 div.sk-parallel-item:last-child::after {\n",
       "  align-self: flex-start;\n",
       "  width: 50%;\n",
       "}\n",
       "\n",
       "#sk-container-id-2 div.sk-parallel-item:only-child::after {\n",
       "  width: 0;\n",
       "}\n",
       "\n",
       "/* Serial-specific style estimator block */\n",
       "\n",
       "#sk-container-id-2 div.sk-serial {\n",
       "  display: flex;\n",
       "  flex-direction: column;\n",
       "  align-items: center;\n",
       "  background-color: var(--sklearn-color-background);\n",
       "  padding-right: 1em;\n",
       "  padding-left: 1em;\n",
       "}\n",
       "\n",
       "\n",
       "/* Toggleable style: style used for estimator/Pipeline/ColumnTransformer box that is\n",
       "clickable and can be expanded/collapsed.\n",
       "- Pipeline and ColumnTransformer use this feature and define the default style\n",
       "- Estimators will overwrite some part of the style using the `sk-estimator` class\n",
       "*/\n",
       "\n",
       "/* Pipeline and ColumnTransformer style (default) */\n",
       "\n",
       "#sk-container-id-2 div.sk-toggleable {\n",
       "  /* Default theme specific background. It is overwritten whether we have a\n",
       "  specific estimator or a Pipeline/ColumnTransformer */\n",
       "  background-color: var(--sklearn-color-background);\n",
       "}\n",
       "\n",
       "/* Toggleable label */\n",
       "#sk-container-id-2 label.sk-toggleable__label {\n",
       "  cursor: pointer;\n",
       "  display: block;\n",
       "  width: 100%;\n",
       "  margin-bottom: 0;\n",
       "  padding: 0.5em;\n",
       "  box-sizing: border-box;\n",
       "  text-align: center;\n",
       "}\n",
       "\n",
       "#sk-container-id-2 label.sk-toggleable__label-arrow:before {\n",
       "  /* Arrow on the left of the label */\n",
       "  content: \"▸\";\n",
       "  float: left;\n",
       "  margin-right: 0.25em;\n",
       "  color: var(--sklearn-color-icon);\n",
       "}\n",
       "\n",
       "#sk-container-id-2 label.sk-toggleable__label-arrow:hover:before {\n",
       "  color: var(--sklearn-color-text);\n",
       "}\n",
       "\n",
       "/* Toggleable content - dropdown */\n",
       "\n",
       "#sk-container-id-2 div.sk-toggleable__content {\n",
       "  max-height: 0;\n",
       "  max-width: 0;\n",
       "  overflow: hidden;\n",
       "  text-align: left;\n",
       "  /* unfitted */\n",
       "  background-color: var(--sklearn-color-unfitted-level-0);\n",
       "}\n",
       "\n",
       "#sk-container-id-2 div.sk-toggleable__content.fitted {\n",
       "  /* fitted */\n",
       "  background-color: var(--sklearn-color-fitted-level-0);\n",
       "}\n",
       "\n",
       "#sk-container-id-2 div.sk-toggleable__content pre {\n",
       "  margin: 0.2em;\n",
       "  border-radius: 0.25em;\n",
       "  color: var(--sklearn-color-text);\n",
       "  /* unfitted */\n",
       "  background-color: var(--sklearn-color-unfitted-level-0);\n",
       "}\n",
       "\n",
       "#sk-container-id-2 div.sk-toggleable__content.fitted pre {\n",
       "  /* unfitted */\n",
       "  background-color: var(--sklearn-color-fitted-level-0);\n",
       "}\n",
       "\n",
       "#sk-container-id-2 input.sk-toggleable__control:checked~div.sk-toggleable__content {\n",
       "  /* Expand drop-down */\n",
       "  max-height: 200px;\n",
       "  max-width: 100%;\n",
       "  overflow: auto;\n",
       "}\n",
       "\n",
       "#sk-container-id-2 input.sk-toggleable__control:checked~label.sk-toggleable__label-arrow:before {\n",
       "  content: \"▾\";\n",
       "}\n",
       "\n",
       "/* Pipeline/ColumnTransformer-specific style */\n",
       "\n",
       "#sk-container-id-2 div.sk-label input.sk-toggleable__control:checked~label.sk-toggleable__label {\n",
       "  color: var(--sklearn-color-text);\n",
       "  background-color: var(--sklearn-color-unfitted-level-2);\n",
       "}\n",
       "\n",
       "#sk-container-id-2 div.sk-label.fitted input.sk-toggleable__control:checked~label.sk-toggleable__label {\n",
       "  background-color: var(--sklearn-color-fitted-level-2);\n",
       "}\n",
       "\n",
       "/* Estimator-specific style */\n",
       "\n",
       "/* Colorize estimator box */\n",
       "#sk-container-id-2 div.sk-estimator input.sk-toggleable__control:checked~label.sk-toggleable__label {\n",
       "  /* unfitted */\n",
       "  background-color: var(--sklearn-color-unfitted-level-2);\n",
       "}\n",
       "\n",
       "#sk-container-id-2 div.sk-estimator.fitted input.sk-toggleable__control:checked~label.sk-toggleable__label {\n",
       "  /* fitted */\n",
       "  background-color: var(--sklearn-color-fitted-level-2);\n",
       "}\n",
       "\n",
       "#sk-container-id-2 div.sk-label label.sk-toggleable__label,\n",
       "#sk-container-id-2 div.sk-label label {\n",
       "  /* The background is the default theme color */\n",
       "  color: var(--sklearn-color-text-on-default-background);\n",
       "}\n",
       "\n",
       "/* On hover, darken the color of the background */\n",
       "#sk-container-id-2 div.sk-label:hover label.sk-toggleable__label {\n",
       "  color: var(--sklearn-color-text);\n",
       "  background-color: var(--sklearn-color-unfitted-level-2);\n",
       "}\n",
       "\n",
       "/* Label box, darken color on hover, fitted */\n",
       "#sk-container-id-2 div.sk-label.fitted:hover label.sk-toggleable__label.fitted {\n",
       "  color: var(--sklearn-color-text);\n",
       "  background-color: var(--sklearn-color-fitted-level-2);\n",
       "}\n",
       "\n",
       "/* Estimator label */\n",
       "\n",
       "#sk-container-id-2 div.sk-label label {\n",
       "  font-family: monospace;\n",
       "  font-weight: bold;\n",
       "  display: inline-block;\n",
       "  line-height: 1.2em;\n",
       "}\n",
       "\n",
       "#sk-container-id-2 div.sk-label-container {\n",
       "  text-align: center;\n",
       "}\n",
       "\n",
       "/* Estimator-specific */\n",
       "#sk-container-id-2 div.sk-estimator {\n",
       "  font-family: monospace;\n",
       "  border: 1px dotted var(--sklearn-color-border-box);\n",
       "  border-radius: 0.25em;\n",
       "  box-sizing: border-box;\n",
       "  margin-bottom: 0.5em;\n",
       "  /* unfitted */\n",
       "  background-color: var(--sklearn-color-unfitted-level-0);\n",
       "}\n",
       "\n",
       "#sk-container-id-2 div.sk-estimator.fitted {\n",
       "  /* fitted */\n",
       "  background-color: var(--sklearn-color-fitted-level-0);\n",
       "}\n",
       "\n",
       "/* on hover */\n",
       "#sk-container-id-2 div.sk-estimator:hover {\n",
       "  /* unfitted */\n",
       "  background-color: var(--sklearn-color-unfitted-level-2);\n",
       "}\n",
       "\n",
       "#sk-container-id-2 div.sk-estimator.fitted:hover {\n",
       "  /* fitted */\n",
       "  background-color: var(--sklearn-color-fitted-level-2);\n",
       "}\n",
       "\n",
       "/* Specification for estimator info (e.g. \"i\" and \"?\") */\n",
       "\n",
       "/* Common style for \"i\" and \"?\" */\n",
       "\n",
       ".sk-estimator-doc-link,\n",
       "a:link.sk-estimator-doc-link,\n",
       "a:visited.sk-estimator-doc-link {\n",
       "  float: right;\n",
       "  font-size: smaller;\n",
       "  line-height: 1em;\n",
       "  font-family: monospace;\n",
       "  background-color: var(--sklearn-color-background);\n",
       "  border-radius: 1em;\n",
       "  height: 1em;\n",
       "  width: 1em;\n",
       "  text-decoration: none !important;\n",
       "  margin-left: 1ex;\n",
       "  /* unfitted */\n",
       "  border: var(--sklearn-color-unfitted-level-1) 1pt solid;\n",
       "  color: var(--sklearn-color-unfitted-level-1);\n",
       "}\n",
       "\n",
       ".sk-estimator-doc-link.fitted,\n",
       "a:link.sk-estimator-doc-link.fitted,\n",
       "a:visited.sk-estimator-doc-link.fitted {\n",
       "  /* fitted */\n",
       "  border: var(--sklearn-color-fitted-level-1) 1pt solid;\n",
       "  color: var(--sklearn-color-fitted-level-1);\n",
       "}\n",
       "\n",
       "/* On hover */\n",
       "div.sk-estimator:hover .sk-estimator-doc-link:hover,\n",
       ".sk-estimator-doc-link:hover,\n",
       "div.sk-label-container:hover .sk-estimator-doc-link:hover,\n",
       ".sk-estimator-doc-link:hover {\n",
       "  /* unfitted */\n",
       "  background-color: var(--sklearn-color-unfitted-level-3);\n",
       "  color: var(--sklearn-color-background);\n",
       "  text-decoration: none;\n",
       "}\n",
       "\n",
       "div.sk-estimator.fitted:hover .sk-estimator-doc-link.fitted:hover,\n",
       ".sk-estimator-doc-link.fitted:hover,\n",
       "div.sk-label-container:hover .sk-estimator-doc-link.fitted:hover,\n",
       ".sk-estimator-doc-link.fitted:hover {\n",
       "  /* fitted */\n",
       "  background-color: var(--sklearn-color-fitted-level-3);\n",
       "  color: var(--sklearn-color-background);\n",
       "  text-decoration: none;\n",
       "}\n",
       "\n",
       "/* Span, style for the box shown on hovering the info icon */\n",
       ".sk-estimator-doc-link span {\n",
       "  display: none;\n",
       "  z-index: 9999;\n",
       "  position: relative;\n",
       "  font-weight: normal;\n",
       "  right: .2ex;\n",
       "  padding: .5ex;\n",
       "  margin: .5ex;\n",
       "  width: min-content;\n",
       "  min-width: 20ex;\n",
       "  max-width: 50ex;\n",
       "  color: var(--sklearn-color-text);\n",
       "  box-shadow: 2pt 2pt 4pt #999;\n",
       "  /* unfitted */\n",
       "  background: var(--sklearn-color-unfitted-level-0);\n",
       "  border: .5pt solid var(--sklearn-color-unfitted-level-3);\n",
       "}\n",
       "\n",
       ".sk-estimator-doc-link.fitted span {\n",
       "  /* fitted */\n",
       "  background: var(--sklearn-color-fitted-level-0);\n",
       "  border: var(--sklearn-color-fitted-level-3);\n",
       "}\n",
       "\n",
       ".sk-estimator-doc-link:hover span {\n",
       "  display: block;\n",
       "}\n",
       "\n",
       "/* \"?\"-specific style due to the `<a>` HTML tag */\n",
       "\n",
       "#sk-container-id-2 a.estimator_doc_link {\n",
       "  float: right;\n",
       "  font-size: 1rem;\n",
       "  line-height: 1em;\n",
       "  font-family: monospace;\n",
       "  background-color: var(--sklearn-color-background);\n",
       "  border-radius: 1rem;\n",
       "  height: 1rem;\n",
       "  width: 1rem;\n",
       "  text-decoration: none;\n",
       "  /* unfitted */\n",
       "  color: var(--sklearn-color-unfitted-level-1);\n",
       "  border: var(--sklearn-color-unfitted-level-1) 1pt solid;\n",
       "}\n",
       "\n",
       "#sk-container-id-2 a.estimator_doc_link.fitted {\n",
       "  /* fitted */\n",
       "  border: var(--sklearn-color-fitted-level-1) 1pt solid;\n",
       "  color: var(--sklearn-color-fitted-level-1);\n",
       "}\n",
       "\n",
       "/* On hover */\n",
       "#sk-container-id-2 a.estimator_doc_link:hover {\n",
       "  /* unfitted */\n",
       "  background-color: var(--sklearn-color-unfitted-level-3);\n",
       "  color: var(--sklearn-color-background);\n",
       "  text-decoration: none;\n",
       "}\n",
       "\n",
       "#sk-container-id-2 a.estimator_doc_link.fitted:hover {\n",
       "  /* fitted */\n",
       "  background-color: var(--sklearn-color-fitted-level-3);\n",
       "}\n",
       "</style><div id=\"sk-container-id-2\" class=\"sk-top-container\"><div class=\"sk-text-repr-fallback\"><pre>LinearRegression()</pre><b>In a Jupyter environment, please rerun this cell to show the HTML representation or trust the notebook. <br />On GitHub, the HTML representation is unable to render, please try loading this page with nbviewer.org.</b></div><div class=\"sk-container\" hidden><div class=\"sk-item\"><div class=\"sk-estimator fitted sk-toggleable\"><input class=\"sk-toggleable__control sk-hidden--visually\" id=\"sk-estimator-id-2\" type=\"checkbox\" checked><label for=\"sk-estimator-id-2\" class=\"sk-toggleable__label fitted sk-toggleable__label-arrow fitted\">&nbsp;&nbsp;LinearRegression<a class=\"sk-estimator-doc-link fitted\" rel=\"noreferrer\" target=\"_blank\" href=\"https://scikit-learn.org/1.4/modules/generated/sklearn.linear_model.LinearRegression.html\">?<span>Documentation for LinearRegression</span></a><span class=\"sk-estimator-doc-link fitted\">i<span>Fitted</span></span></label><div class=\"sk-toggleable__content fitted\"><pre>LinearRegression()</pre></div> </div></div></div></div>"
      ],
      "text/plain": [
       "LinearRegression()"
      ]
     },
     "execution_count": 34,
     "metadata": {},
     "output_type": "execute_result"
    }
   ],
   "source": [
    "lpm.fit(X_train, y_train)  # step2"
   ]
  },
  {
   "cell_type": "code",
   "execution_count": 35,
   "id": "fce8299e",
   "metadata": {
    "execution": {
     "iopub.execute_input": "2024-07-06T02:10:48.006420Z",
     "iopub.status.busy": "2024-07-06T02:10:48.005590Z",
     "iopub.status.idle": "2024-07-06T02:10:48.010271Z",
     "shell.execute_reply": "2024-07-06T02:10:48.009363Z"
    },
    "papermill": {
     "duration": 0.013384,
     "end_time": "2024-07-06T02:10:48.012160",
     "exception": false,
     "start_time": "2024-07-06T02:10:47.998776",
     "status": "completed"
    },
    "tags": []
   },
   "outputs": [],
   "source": [
    "y_pred = lpm.predict(X_test)"
   ]
  },
  {
   "cell_type": "code",
   "execution_count": 36,
   "id": "5764dfd3",
   "metadata": {
    "execution": {
     "iopub.execute_input": "2024-07-06T02:10:48.025170Z",
     "iopub.status.busy": "2024-07-06T02:10:48.024828Z",
     "iopub.status.idle": "2024-07-06T02:10:48.318847Z",
     "shell.execute_reply": "2024-07-06T02:10:48.317845Z"
    },
    "papermill": {
     "duration": 0.303016,
     "end_time": "2024-07-06T02:10:48.321037",
     "exception": false,
     "start_time": "2024-07-06T02:10:48.018021",
     "status": "completed"
    },
    "tags": []
   },
   "outputs": [
    {
     "data": {
      "text/plain": [
       "<matplotlib.collections.PathCollection at 0x2bd11ad6f00>"
      ]
     },
     "execution_count": 36,
     "metadata": {},
     "output_type": "execute_result"
    },
    {
     "data": {
      "image/png": "[encoded data removed]",
      "text/plain": [
       "<Figure size 640x480 with 1 Axes>"
      ]
     },
     "metadata": {},
     "output_type": "display_data"
    }
   ],
   "source": [
    "plt.scatter(y_pred, y_test)"
   ]
  },
  {
   "cell_type": "code",
   "execution_count": 37,
   "id": "78d65fbc",
   "metadata": {
    "execution": {
     "iopub.execute_input": "2024-07-06T02:10:48.335337Z",
     "iopub.status.busy": "2024-07-06T02:10:48.334931Z",
     "iopub.status.idle": "2024-07-06T02:10:48.587974Z",
     "shell.execute_reply": "2024-07-06T02:10:48.586975Z"
    },
    "papermill": {
     "duration": 0.262515,
     "end_time": "2024-07-06T02:10:48.589976",
     "exception": false,
     "start_time": "2024-07-06T02:10:48.327461",
     "status": "completed"
    },
    "scrolled": true,
    "tags": []
   },
   "outputs": [
    {
     "data": {
      "text/plain": [
       "Text(0.5, 1.0, 'Simple Linear Regression')"
      ]
     },
     "execution_count": 37,
     "metadata": {},
     "output_type": "execute_result"
    },
    {
     "data": {
      "image/png": "[encoded data removed]",
      "text/plain": [
       "<Figure size 640x480 with 1 Axes>"
      ]
     },
     "metadata": {},
     "output_type": "display_data"
    }
   ],
   "source": [
    "plt.scatter(X_train, y_train, color=\"g\")\n",
    "plt.plot(X_test, y_pred, color=\"k\")\n",
    "plt.xlabel(\"Independent Feature\")\n",
    "plt.ylabel(\"Target Values\")\n",
    "plt.title(\"Simple Linear Regression\")"
   ]
  },
  {
   "cell_type": "code",
   "execution_count": 38,
   "id": "63669e1b",
   "metadata": {
    "execution": {
     "iopub.execute_input": "2024-07-06T02:10:48.606101Z",
     "iopub.status.busy": "2024-07-06T02:10:48.605732Z",
     "iopub.status.idle": "2024-07-06T02:10:48.612996Z",
     "shell.execute_reply": "2024-07-06T02:10:48.611991Z"
    },
    "papermill": {
     "duration": 0.017687,
     "end_time": "2024-07-06T02:10:48.614918",
     "exception": false,
     "start_time": "2024-07-06T02:10:48.597231",
     "status": "completed"
    },
    "tags": []
   },
   "outputs": [
    {
     "name": "stdout",
     "output_type": "stream",
     "text": [
      "(309, 1)\n",
      "(309,)\n"
     ]
    },
    {
     "data": {
      "text/plain": [
       "(None, None)"
      ]
     },
     "execution_count": 38,
     "metadata": {},
     "output_type": "execute_result"
    }
   ],
   "source": [
    "print(X_train.shape), print(y_train.shape)"
   ]
  },
  {
   "cell_type": "code",
   "execution_count": 39,
   "id": "c0b23241",
   "metadata": {
    "execution": {
     "iopub.execute_input": "2024-07-06T02:10:48.631985Z",
     "iopub.status.busy": "2024-07-06T02:10:48.631161Z",
     "iopub.status.idle": "2024-07-06T02:10:48.636695Z",
     "shell.execute_reply": "2024-07-06T02:10:48.635760Z"
    },
    "papermill": {
     "duration": 0.016095,
     "end_time": "2024-07-06T02:10:48.638876",
     "exception": false,
     "start_time": "2024-07-06T02:10:48.622781",
     "status": "completed"
    },
    "tags": []
   },
   "outputs": [
    {
     "name": "stdout",
     "output_type": "stream",
     "text": [
      "4254.615583911326\n"
     ]
    }
   ],
   "source": [
    "print(mean_squared_error(y_test, y_pred))"
   ]
  },
  {
   "cell_type": "code",
   "execution_count": 40,
   "id": "3ca91baf",
   "metadata": {
    "execution": {
     "iopub.execute_input": "2024-07-06T02:10:48.655204Z",
     "iopub.status.busy": "2024-07-06T02:10:48.654850Z",
     "iopub.status.idle": "2024-07-06T02:10:48.662177Z",
     "shell.execute_reply": "2024-07-06T02:10:48.661171Z"
    },
    "papermill": {
     "duration": 0.017877,
     "end_time": "2024-07-06T02:10:48.664186",
     "exception": false,
     "start_time": "2024-07-06T02:10:48.646309",
     "status": "completed"
    },
    "scrolled": true,
    "tags": []
   },
   "outputs": [
    {
     "name": "stdout",
     "output_type": "stream",
     "text": [
      "[875.72295475]\n",
      "150.3534927040268\n"
     ]
    },
    {
     "data": {
      "text/plain": [
       "(None, None)"
      ]
     },
     "execution_count": 40,
     "metadata": {},
     "output_type": "execute_result"
    }
   ],
   "source": [
    "print(lpm.coef_), print(lpm.intercept_)"
   ]
  },
  {
   "cell_type": "code",
   "execution_count": 41,
   "id": "29d681da",
   "metadata": {
    "execution": {
     "iopub.execute_input": "2024-07-06T02:10:48.681451Z",
     "iopub.status.busy": "2024-07-06T02:10:48.680825Z",
     "iopub.status.idle": "2024-07-06T02:10:48.685223Z",
     "shell.execute_reply": "2024-07-06T02:10:48.684306Z"
    },
    "papermill": {
     "duration": 0.015341,
     "end_time": "2024-07-06T02:10:48.687327",
     "exception": false,
     "start_time": "2024-07-06T02:10:48.671986",
     "status": "completed"
    },
    "tags": []
   },
   "outputs": [],
   "source": [
    "new_input = [[0.0226]]"
   ]
  },
  {
   "cell_type": "code",
   "execution_count": 42,
   "id": "91f90df0",
   "metadata": {
    "execution": {
     "iopub.execute_input": "2024-07-06T02:10:48.703980Z",
     "iopub.status.busy": "2024-07-06T02:10:48.703588Z",
     "iopub.status.idle": "2024-07-06T02:10:48.708449Z",
     "shell.execute_reply": "2024-07-06T02:10:48.707409Z"
    },
    "papermill": {
     "duration": 0.015471,
     "end_time": "2024-07-06T02:10:48.710461",
     "exception": false,
     "start_time": "2024-07-06T02:10:48.694990",
     "status": "completed"
    },
    "tags": []
   },
   "outputs": [],
   "source": [
    "new_pred = lpm.predict(new_input)"
   ]
  },
  {
   "cell_type": "code",
   "execution_count": 43,
   "id": "321063de",
   "metadata": {
    "execution": {
     "iopub.execute_input": "2024-07-06T02:10:48.727861Z",
     "iopub.status.busy": "2024-07-06T02:10:48.727212Z",
     "iopub.status.idle": "2024-07-06T02:10:48.733518Z",
     "shell.execute_reply": "2024-07-06T02:10:48.732549Z"
    },
    "papermill": {
     "duration": 0.017312,
     "end_time": "2024-07-06T02:10:48.735710",
     "exception": false,
     "start_time": "2024-07-06T02:10:48.718398",
     "status": "completed"
    },
    "tags": []
   },
   "outputs": [
    {
     "data": {
      "text/plain": [
       "array([170.14483148])"
      ]
     },
     "execution_count": 43,
     "metadata": {},
     "output_type": "execute_result"
    }
   ],
   "source": [
    "new_pred"
   ]
  },
  {
   "cell_type": "code",
   "execution_count": 44,
   "id": "6586f978",
   "metadata": {
    "execution": {
     "iopub.execute_input": "2024-07-06T02:10:48.753279Z",
     "iopub.status.busy": "2024-07-06T02:10:48.752892Z",
     "iopub.status.idle": "2024-07-06T02:10:48.758287Z",
     "shell.execute_reply": "2024-07-06T02:10:48.757329Z"
    },
    "papermill": {
     "duration": 0.016643,
     "end_time": "2024-07-06T02:10:48.760384",
     "exception": false,
     "start_time": "2024-07-06T02:10:48.743741",
     "status": "completed"
    },
    "tags": []
   },
   "outputs": [],
   "source": [
    "import pickle\n",
    "\n",
    "RegFile = \"lpm.pickle\"\n",
    "pickle.dump(lpm, open(RegFile, \"wb\"))"
   ]
  }
 ],
 "metadata": {
  "kaggle": {
   "accelerator": "none",
   "dataSources": [],
   "isGpuEnabled": false,
   "isInternetEnabled": true,
   "language": "python",
   "sourceType": "notebook"
  },
  "kernelspec": {
   "display_name": "Python 3 (ipykernel)",
   "language": "python",
   "name": "python3"
  },
  "language_info": {
   "codemirror_mode": {
    "name": "ipython",
    "version": 3
   },
   "file_extension": ".py",
   "mimetype": "text/x-python",
   "name": "python",
   "nbconvert_exporter": "python",
   "pygments_lexer": "ipython3",
   "version": "3.12.3"
  },
  "papermill": {
   "default_parameters": {},
   "duration": 6.436594,
   "end_time": "2024-07-06T02:10:49.304812",
   "environment_variables": {},
   "exception": null,
   "input_path": "__notebook__.ipynb",
   "output_path": "__notebook__.ipynb",
   "parameters": {},
   "start_time": "2024-07-06T02:10:42.868218",
   "version": "2.5.0"
  }
 },
 "nbformat": 4,
 "nbformat_minor": 5
}
